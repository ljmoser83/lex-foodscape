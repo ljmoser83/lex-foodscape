{
 "cells": [
  {
   "cell_type": "markdown",
   "metadata": {},
   "source": [
    "# Data Analysis and Pre-processing"
   ]
  },
  {
   "cell_type": "code",
   "execution_count": 2,
   "metadata": {},
   "outputs": [],
   "source": [
    "import pandas as pd\n",
    "import xlrd\n",
    "import geopandas as gpd"
   ]
  },
  {
   "cell_type": "markdown",
   "metadata": {},
   "source": [
    "## Importing and preparing Food Access Data"
   ]
  },
  {
   "cell_type": "code",
   "execution_count": 2,
   "metadata": {},
   "outputs": [],
   "source": [
    "food= pd.read_excel('./data/Food_Access_2015.xlsx', sheet_name=2) # sheet_name is an optional argument that selects workbook tab to import (o based index, so this would be selecting the third sheet in the workbook)"
   ]
  },
  {
   "cell_type": "code",
   "execution_count": 3,
   "metadata": {},
   "outputs": [
    {
     "data": {
      "text/plain": [
       "pandas.core.frame.DataFrame"
      ]
     },
     "execution_count": 3,
     "metadata": {},
     "output_type": "execute_result"
    }
   ],
   "source": [
    "type(food) #checking to ensure that the data has gone into a python DataFrame"
   ]
  },
  {
   "cell_type": "code",
   "execution_count": 4,
   "metadata": {},
   "outputs": [
    {
     "data": {
      "text/html": [
       "<div>\n",
       "<style scoped>\n",
       "    .dataframe tbody tr th:only-of-type {\n",
       "        vertical-align: middle;\n",
       "    }\n",
       "\n",
       "    .dataframe tbody tr th {\n",
       "        vertical-align: top;\n",
       "    }\n",
       "\n",
       "    .dataframe thead th {\n",
       "        text-align: right;\n",
       "    }\n",
       "</style>\n",
       "<table border=\"1\" class=\"dataframe\">\n",
       "  <thead>\n",
       "    <tr style=\"text-align: right;\">\n",
       "      <th></th>\n",
       "      <th>CensusTract</th>\n",
       "      <th>State</th>\n",
       "      <th>County</th>\n",
       "      <th>Urban</th>\n",
       "      <th>POP2010</th>\n",
       "      <th>OHU2010</th>\n",
       "      <th>GroupQuartersFlag</th>\n",
       "      <th>NUMGQTRS</th>\n",
       "      <th>PCTGQTRS</th>\n",
       "      <th>LILATracts_1And10</th>\n",
       "      <th>...</th>\n",
       "      <th>TractSeniors</th>\n",
       "      <th>TractWhite</th>\n",
       "      <th>TractBlack</th>\n",
       "      <th>TractAsian</th>\n",
       "      <th>TractNHOPI</th>\n",
       "      <th>TractAIAN</th>\n",
       "      <th>TractOMultir</th>\n",
       "      <th>TractHispanic</th>\n",
       "      <th>TractHUNV</th>\n",
       "      <th>TractSNAP</th>\n",
       "    </tr>\n",
       "  </thead>\n",
       "  <tbody>\n",
       "    <tr>\n",
       "      <th>0</th>\n",
       "      <td>1001020100</td>\n",
       "      <td>Alabama</td>\n",
       "      <td>Autauga</td>\n",
       "      <td>1</td>\n",
       "      <td>1912</td>\n",
       "      <td>693</td>\n",
       "      <td>0</td>\n",
       "      <td>0</td>\n",
       "      <td>0.000000</td>\n",
       "      <td>0</td>\n",
       "      <td>...</td>\n",
       "      <td>221</td>\n",
       "      <td>1622</td>\n",
       "      <td>217</td>\n",
       "      <td>14</td>\n",
       "      <td>0</td>\n",
       "      <td>14</td>\n",
       "      <td>45</td>\n",
       "      <td>44</td>\n",
       "      <td>26</td>\n",
       "      <td>112</td>\n",
       "    </tr>\n",
       "    <tr>\n",
       "      <th>1</th>\n",
       "      <td>1001020200</td>\n",
       "      <td>Alabama</td>\n",
       "      <td>Autauga</td>\n",
       "      <td>1</td>\n",
       "      <td>2170</td>\n",
       "      <td>743</td>\n",
       "      <td>0</td>\n",
       "      <td>181</td>\n",
       "      <td>0.083410</td>\n",
       "      <td>0</td>\n",
       "      <td>...</td>\n",
       "      <td>214</td>\n",
       "      <td>888</td>\n",
       "      <td>1217</td>\n",
       "      <td>5</td>\n",
       "      <td>0</td>\n",
       "      <td>5</td>\n",
       "      <td>55</td>\n",
       "      <td>75</td>\n",
       "      <td>87</td>\n",
       "      <td>202</td>\n",
       "    </tr>\n",
       "    <tr>\n",
       "      <th>2</th>\n",
       "      <td>1001020300</td>\n",
       "      <td>Alabama</td>\n",
       "      <td>Autauga</td>\n",
       "      <td>1</td>\n",
       "      <td>3373</td>\n",
       "      <td>1256</td>\n",
       "      <td>0</td>\n",
       "      <td>0</td>\n",
       "      <td>0.000000</td>\n",
       "      <td>0</td>\n",
       "      <td>...</td>\n",
       "      <td>439</td>\n",
       "      <td>2576</td>\n",
       "      <td>647</td>\n",
       "      <td>17</td>\n",
       "      <td>5</td>\n",
       "      <td>11</td>\n",
       "      <td>117</td>\n",
       "      <td>87</td>\n",
       "      <td>108</td>\n",
       "      <td>120</td>\n",
       "    </tr>\n",
       "    <tr>\n",
       "      <th>3</th>\n",
       "      <td>1001020400</td>\n",
       "      <td>Alabama</td>\n",
       "      <td>Autauga</td>\n",
       "      <td>1</td>\n",
       "      <td>4386</td>\n",
       "      <td>1722</td>\n",
       "      <td>0</td>\n",
       "      <td>0</td>\n",
       "      <td>0.000000</td>\n",
       "      <td>0</td>\n",
       "      <td>...</td>\n",
       "      <td>904</td>\n",
       "      <td>4086</td>\n",
       "      <td>193</td>\n",
       "      <td>18</td>\n",
       "      <td>4</td>\n",
       "      <td>11</td>\n",
       "      <td>74</td>\n",
       "      <td>85</td>\n",
       "      <td>19</td>\n",
       "      <td>82</td>\n",
       "    </tr>\n",
       "    <tr>\n",
       "      <th>4</th>\n",
       "      <td>1001020500</td>\n",
       "      <td>Alabama</td>\n",
       "      <td>Autauga</td>\n",
       "      <td>1</td>\n",
       "      <td>10766</td>\n",
       "      <td>4082</td>\n",
       "      <td>0</td>\n",
       "      <td>181</td>\n",
       "      <td>0.016812</td>\n",
       "      <td>0</td>\n",
       "      <td>...</td>\n",
       "      <td>1126</td>\n",
       "      <td>8666</td>\n",
       "      <td>1437</td>\n",
       "      <td>296</td>\n",
       "      <td>9</td>\n",
       "      <td>48</td>\n",
       "      <td>310</td>\n",
       "      <td>355</td>\n",
       "      <td>198</td>\n",
       "      <td>488</td>\n",
       "    </tr>\n",
       "  </tbody>\n",
       "</table>\n",
       "<p>5 rows × 147 columns</p>\n",
       "</div>"
      ],
      "text/plain": [
       "   CensusTract    State   County  Urban  POP2010  OHU2010  GroupQuartersFlag  \\\n",
       "0   1001020100  Alabama  Autauga      1     1912      693                  0   \n",
       "1   1001020200  Alabama  Autauga      1     2170      743                  0   \n",
       "2   1001020300  Alabama  Autauga      1     3373     1256                  0   \n",
       "3   1001020400  Alabama  Autauga      1     4386     1722                  0   \n",
       "4   1001020500  Alabama  Autauga      1    10766     4082                  0   \n",
       "\n",
       "   NUMGQTRS  PCTGQTRS  LILATracts_1And10    ...      TractSeniors  TractWhite  \\\n",
       "0         0  0.000000                  0    ...               221        1622   \n",
       "1       181  0.083410                  0    ...               214         888   \n",
       "2         0  0.000000                  0    ...               439        2576   \n",
       "3         0  0.000000                  0    ...               904        4086   \n",
       "4       181  0.016812                  0    ...              1126        8666   \n",
       "\n",
       "   TractBlack  TractAsian  TractNHOPI  TractAIAN  TractOMultir  TractHispanic  \\\n",
       "0         217          14           0         14            45             44   \n",
       "1        1217           5           0          5            55             75   \n",
       "2         647          17           5         11           117             87   \n",
       "3         193          18           4         11            74             85   \n",
       "4        1437         296           9         48           310            355   \n",
       "\n",
       "   TractHUNV  TractSNAP  \n",
       "0         26        112  \n",
       "1         87        202  \n",
       "2        108        120  \n",
       "3         19         82  \n",
       "4        198        488  \n",
       "\n",
       "[5 rows x 147 columns]"
      ]
     },
     "execution_count": 4,
     "metadata": {},
     "output_type": "execute_result"
    }
   ],
   "source": [
    "food.head(5) #Viewing the first 5 rows of the dataset and checking out the massive number of columns"
   ]
  },
  {
   "cell_type": "code",
   "execution_count": 5,
   "metadata": {},
   "outputs": [
    {
     "data": {
      "text/plain": [
       "Index(['CensusTract', 'State', 'County', 'Urban', 'POP2010', 'OHU2010',\n",
       "       'GroupQuartersFlag', 'NUMGQTRS', 'PCTGQTRS', 'LILATracts_1And10',\n",
       "       ...\n",
       "       'TractSeniors', 'TractWhite', 'TractBlack', 'TractAsian', 'TractNHOPI',\n",
       "       'TractAIAN', 'TractOMultir', 'TractHispanic', 'TractHUNV', 'TractSNAP'],\n",
       "      dtype='object', length=147)"
      ]
     },
     "execution_count": 5,
     "metadata": {},
     "output_type": "execute_result"
    }
   ],
   "source": [
    "food.columns"
   ]
  },
  {
   "cell_type": "markdown",
   "metadata": {},
   "source": [
    "stopping here because I am not sure exactly which columns I will want to include in my project analysis."
   ]
  },
  {
   "cell_type": "code",
   "execution_count": null,
   "metadata": {},
   "outputs": [],
   "source": [
    "food_clean= food.drop(columns=['OHU2010','NUMGQTRS','PCTGQTRS', 'LILATracts_1And10', 'LILATracts_halfAnd10', 'LILATracts_1And20', \"NUMGQTRS\",\n",
    "\"PCTGQTRS\",\n",
    "\"LILATracts_1And10\",\n",
    "\"LILATracts_halfAnd10\",\n",
    "\"LILATracts_1And20\",\n",
    "\"LILATracts_Vehicle\",\n",
    "\"LAhalfand10\",\n",
    "\"LA1and20\",\n",
    "\"LATracts_half\",\n",
    "\"LATracts1\",\n",
    "\"LATracts10\",\n",
    "\"LATracts20\",\n",
    "\"LATractsVehicle_20\",\n",
    "\"LAPOP05_10\",\n",
    "\"LAPOP1_20\",\n",
    "\"LALOWI1_10\",\n",
    "\"LALOWI05_10\",\n",
    "\"LALOWI1_20\",\n",
    "\"lapophalf\",\n",
    "\"lapophalfshare\",\n",
    "\"lalowihalf\",\n",
    "\"lalowihalfshare\",\n",
    "\"lakidshalf\",\n",
    "\"lakidshalfshare\",\n",
    "\"laseniorshalf\",\n",
    "\"laseniorshalfshare\",\n",
    "\"lawhitehalf\",\n",
    "\"lawhitehalfshare\",\n",
    "\"lablackhalf\",\n",
    "\"lablackhalfshare\",\n",
    "\"laasianhalf\",\n",
    "\"laasianhalfshare\",\n",
    "\"lanhopihalf\",\n",
    "\"lanhopihalfshare\",\n",
    "\"laaianhalf\",\n",
    "\"laaianhalfshare\",\n",
    "\"laomultirhalf\",\n",
    "\"laomultirhalfshare\",\n",
    "\"lahisphalf\",\n",
    "\"lahisphalfshare\",\n",
    "\"lahunvhalf\",\n",
    "\"lahunvhalfshare\",\n",
    "\"lasnaphalf\",\n",
    "\"lasnaphalfshare\",\n",
    "\"lapop1\",\n",
    "\"lapop1share\",\n",
    "\"lalowi1\",\n",
    "\"lalowi1share\",\n",
    "\"lakids1\",\n",
    "\"lakids1share\",\n",
    "\"laseniors1\",\n",
    "\"laseniors1share\",\n",
    "\"lawhite1\",\n",
    "\"lawhite1share\",\n",
    "\"lablack1\",\n",
    "\"lablack1share\",\n",
    "\"laasian1\",\n",
    "\"laasian1share\",\n",
    "\"lanhopi1\",\n",
    "\"lanhopi1share\",\n",
    "\"laaian1\",\n",
    "\"laaian1share\",\n",
    "\"laomultir1\",\n",
    "\"laomultir1share\",\n",
    "\"lahisp1\",\n",
    "\"lahisp1share\",\n",
    "\"lahunv1\",\n",
    "\"lahunv1share\",\n",
    "\"lasnap1\",\n",
    "\"lasnap1share\",\n",
    "\"lapop10\",\n",
    "\"lapop10share\",\n",
    "\"lalowi10\",\n",
    "\"lalowi10share\",\n",
    "\"lakids10\",\n",
    "\"lakids10share\",\n",
    "\"laseniors10\",\n",
    "\"laseniors10share\",\n",
    "\"lawhite10\",\n",
    "\"lawhite10share\",\n",
    "\"lablack10\",\n",
    "\"lablack10share\",\n",
    "\"laasian10\",\n",
    "\"laasian10share\",\n",
    "\"lanhopi10\",\n",
    "\"lanhopi10share\",\n",
    "\"laaian10\",\n",
    "\"laaian10share\",\n",
    "\"laomultir10\",\n",
    "\"laomultir10share\",\n",
    "\"lahisp10\",\n",
    "\"lahisp10share\",\n",
    "\"lahunv10\",\n",
    "\"lahunv10share\",\n",
    "\"lasnap10\",\n",
    "\"lasnap10share\",\n",
    "\"lapop20\",\n",
    "\"lapop20share\",\n",
    "\"lalowi20\",\n",
    "\"lalowi20share\",\n",
    "\"lakids20\",\n",
    "\"lakids20share\",\n",
    "\"laseniors20\",\n",
    "\"laseniors20share\",\n",
    "\"lawhite20\",\n",
    "\"lawhite20share\",\n",
    "\"lablack20\",\n",
    "\"lablack20share\",\n",
    "\"laasian20\",\n",
    "\"laasian20share\",\n",
    "\"lanhopi20\",\n",
    "\"lanhopi20share\",\n",
    "\"laaian20\",\n",
    "\"laaian20share\",\n",
    "\"laomultir20\",\n",
    "\"laomultir20share\",\n",
    "\"lahisp20\",\n",
    "\"lahisp20share\",\n",
    "\"lahunv20\",\n",
    "\"lahunv20share\",\n",
    "\"lasnap20\",\n",
    "\"lasnap20share\",\n",
    "\"TractLOWI\",\n",
    "\"TractKids\",\n",
    "\"TractSeniors\",\n",
    "\"TractWhite\",\n",
    "\"TractBlack\",\n",
    "\"TractAsian\",\n",
    "\"TractNHOPI\",\n",
    "\"TractAIAN\",\n",
    "\"TractOMultir\",\n",
    "\"TractHispanic\",\n",
    "\"TractHUNV\",\n",
    "\"TractSNAP\"\n",
    "]) #drops the columns that I don't want"
   ]
  },
  {
   "cell_type": "code",
   "execution_count": null,
   "metadata": {},
   "outputs": [],
   "source": [
    "food_clean.head(5)#viewing the reduced DataFrame"
   ]
  },
  {
   "cell_type": "code",
   "execution_count": null,
   "metadata": {},
   "outputs": [],
   "source": [
    "ky_food_clean=food_clean.loc[(food_clean['State']== 'Kentucky')] #filtering the DataFrame to Kentucky"
   ]
  },
  {
   "cell_type": "code",
   "execution_count": null,
   "metadata": {},
   "outputs": [],
   "source": [
    "ky_fayette_food_clean=ky_food_clean.loc[(ky_food_clean['County']=='Fayette')] #filtering the DataFrame to Fayette County"
   ]
  },
  {
   "cell_type": "code",
   "execution_count": null,
   "metadata": {},
   "outputs": [],
   "source": [
    "ky_fayette_food_clean.head(5) #viewing the reduced DataFrame"
   ]
  },
  {
   "cell_type": "code",
   "execution_count": null,
   "metadata": {},
   "outputs": [],
   "source": [
    "ky_fayette_food_clean_rename=ky_fayette_food_clean.rename(columns={'Urban':'UrbanFlag', 'GroupQuartersFlag':'SharedHousingFlag', 'HUNVFlag':'LowVehicleAccessFlag','LowIncomeTracts':'LowIncomeFlag', 'LA1and10':'LowAccess1_10', 'LAPOP1_10':\"LowAccessPop1_10\"})#This renames columns"
   ]
  },
  {
   "cell_type": "code",
   "execution_count": null,
   "metadata": {},
   "outputs": [],
   "source": [
    "ky_fayette_food_clean_rename.columns #checking the newly assigned column names"
   ]
  },
  {
   "cell_type": "code",
   "execution_count": null,
   "metadata": {},
   "outputs": [],
   "source": [
    "ky_fayette_food_clean_rename_int=ky_fayette_food_clean_rename.astype(dtype={\"LowAccessPop1_10\": 'int64'}) #casts column to new data format"
   ]
  },
  {
   "cell_type": "code",
   "execution_count": null,
   "metadata": {},
   "outputs": [],
   "source": [
    "ky_fayette_food_clean_rename_int=ky_fayette_food_clean_rename_int.drop(columns=['State', 'County']) #removed additional unnecessary fields"
   ]
  },
  {
   "cell_type": "code",
   "execution_count": null,
   "metadata": {},
   "outputs": [],
   "source": [
    "ky_fayette_food_clean_rename_int.info() #checking the data type of each column"
   ]
  },
  {
   "cell_type": "code",
   "execution_count": null,
   "metadata": {},
   "outputs": [],
   "source": [
    "ky_fayette_food_clean_rename_int.to_json('./data/ky_fayette_food_access_2015.json', orient='index') #exporting filtered, reduced DataFrame to JSON. The optional argument orient=... selects the appropriate method of grouping items in the JSON output."
   ]
  },
  {
   "cell_type": "markdown",
   "metadata": {},
   "source": [
    "## Merging data to spatial layer"
   ]
  },
  {
   "cell_type": "code",
   "execution_count": null,
   "metadata": {},
   "outputs": [],
   "source": [
    "tracts= gpd.read_file('./data/cb_2017_21_tract_500k/kentucky_census_tracts.geojson')"
   ]
  },
  {
   "cell_type": "code",
   "execution_count": null,
   "metadata": {},
   "outputs": [],
   "source": [
    "tracts['GEOID'] = tracts['GEOID'].astype('int64')"
   ]
  },
  {
   "cell_type": "code",
   "execution_count": null,
   "metadata": {},
   "outputs": [],
   "source": [
    "tracts.head(5)"
   ]
  },
  {
   "cell_type": "code",
   "execution_count": null,
   "metadata": {},
   "outputs": [],
   "source": [
    "tracts_min=tracts.drop(columns=['STATEFP','COUNTYFP','TRACTCE', 'AFFGEOID', 'NAME', 'LSAD','ALAND','AWATER'])"
   ]
  },
  {
   "cell_type": "code",
   "execution_count": null,
   "metadata": {},
   "outputs": [],
   "source": [
    "tracts_min=tracts_min.rename(columns={'GEOID':'CensusTract'})"
   ]
  },
  {
   "cell_type": "code",
   "execution_count": null,
   "metadata": {},
   "outputs": [],
   "source": [
    "tracts_min.head(5)"
   ]
  },
  {
   "cell_type": "code",
   "execution_count": null,
   "metadata": {},
   "outputs": [],
   "source": [
    "tracts_min.plot();"
   ]
  },
  {
   "cell_type": "code",
   "execution_count": null,
   "metadata": {},
   "outputs": [],
   "source": [
    "access= pd.read_json('./data/ky_fayette_food_access_2015.json', dtype= 'int64')"
   ]
  },
  {
   "cell_type": "code",
   "execution_count": null,
   "metadata": {},
   "outputs": [],
   "source": [
    "food_access=access.T"
   ]
  },
  {
   "cell_type": "code",
   "execution_count": null,
   "metadata": {},
   "outputs": [],
   "source": [
    "food_access.head(5)"
   ]
  },
  {
   "cell_type": "code",
   "execution_count": null,
   "metadata": {},
   "outputs": [],
   "source": [
    "food_access.info()"
   ]
  },
  {
   "cell_type": "code",
   "execution_count": null,
   "metadata": {},
   "outputs": [],
   "source": [
    "merged=tracts_min.merge(food_access, on=\"CensusTract\")"
   ]
  },
  {
   "cell_type": "code",
   "execution_count": null,
   "metadata": {},
   "outputs": [],
   "source": [
    "merged.info()"
   ]
  },
  {
   "cell_type": "code",
   "execution_count": null,
   "metadata": {},
   "outputs": [],
   "source": [
    "merged.head(5)"
   ]
  },
  {
   "cell_type": "code",
   "execution_count": null,
   "metadata": {},
   "outputs": [],
   "source": [
    "merged.plot()"
   ]
  },
  {
   "cell_type": "code",
   "execution_count": null,
   "metadata": {},
   "outputs": [],
   "source": [
    "merged.to_file('./data/fayette_food_access.geojson')"
   ]
  },
  {
   "cell_type": "markdown",
   "metadata": {},
   "source": [
    "## Lexington Food Location Import and Processing"
   ]
  },
  {
   "cell_type": "code",
   "execution_count": 3,
   "metadata": {},
   "outputs": [],
   "source": [
    "lf=pd.read_excel('https://lexingtonhealthdepartment.org/wp-content/uploads/2019/05/most_recent_food_scores.xlsx')"
   ]
  },
  {
   "cell_type": "code",
   "execution_count": 5,
   "metadata": {},
   "outputs": [
    {
     "data": {
      "text/html": [
       "<div>\n",
       "<style scoped>\n",
       "    .dataframe tbody tr th:only-of-type {\n",
       "        vertical-align: middle;\n",
       "    }\n",
       "\n",
       "    .dataframe tbody tr th {\n",
       "        vertical-align: top;\n",
       "    }\n",
       "\n",
       "    .dataframe thead th {\n",
       "        text-align: right;\n",
       "    }\n",
       "</style>\n",
       "<table border=\"1\" class=\"dataframe\">\n",
       "  <thead>\n",
       "    <tr style=\"text-align: right;\">\n",
       "      <th></th>\n",
       "      <th>Est Number</th>\n",
       "      <th>Premise Name</th>\n",
       "      <th>Premise Address 1</th>\n",
       "      <th>Reporting Area</th>\n",
       "      <th>Inspection Type</th>\n",
       "      <th>Score</th>\n",
       "      <th>Inspection Date</th>\n",
       "      <th>Violation List</th>\n",
       "      <th>Followup Required</th>\n",
       "      <th>Opening Date</th>\n",
       "    </tr>\n",
       "  </thead>\n",
       "  <tbody>\n",
       "    <tr>\n",
       "      <th>0</th>\n",
       "      <td>67372</td>\n",
       "      <td>#1 CHINA BUFFET</td>\n",
       "      <td>125 E. REYNOLDS ROAD, STE. 120</td>\n",
       "      <td>605</td>\n",
       "      <td>1</td>\n",
       "      <td>93.0</td>\n",
       "      <td>2019-05-07</td>\n",
       "      <td>15  19  20  23  29  31</td>\n",
       "      <td>NO</td>\n",
       "      <td>2002-01-02</td>\n",
       "    </tr>\n",
       "    <tr>\n",
       "      <th>1</th>\n",
       "      <td>65440</td>\n",
       "      <td>1ST.  BASE CONCESSION</td>\n",
       "      <td>207 LEGENDS LANE</td>\n",
       "      <td>605</td>\n",
       "      <td>1</td>\n",
       "      <td>99.0</td>\n",
       "      <td>2019-04-10</td>\n",
       "      <td>15</td>\n",
       "      <td>NO</td>\n",
       "      <td>2016-03-11</td>\n",
       "    </tr>\n",
       "    <tr>\n",
       "      <th>2</th>\n",
       "      <td>98932</td>\n",
       "      <td>21C LEXINGTON MASTER TENANT</td>\n",
       "      <td>167 W MAIN STREET</td>\n",
       "      <td>605</td>\n",
       "      <td>1</td>\n",
       "      <td>97.0</td>\n",
       "      <td>2019-01-29</td>\n",
       "      <td>19  26</td>\n",
       "      <td>NO</td>\n",
       "      <td>2016-01-25</td>\n",
       "    </tr>\n",
       "    <tr>\n",
       "      <th>3</th>\n",
       "      <td>30690</td>\n",
       "      <td>2ND FLOOR CLUB KITCHEN</td>\n",
       "      <td>4201 VERSAILLES RD.</td>\n",
       "      <td>605</td>\n",
       "      <td>1</td>\n",
       "      <td>100.0</td>\n",
       "      <td>2019-04-11</td>\n",
       "      <td>NaN</td>\n",
       "      <td>NO</td>\n",
       "      <td>1988-07-06</td>\n",
       "    </tr>\n",
       "    <tr>\n",
       "      <th>4</th>\n",
       "      <td>65439</td>\n",
       "      <td>3RD. BASE CONCESSION</td>\n",
       "      <td>207 LEGENDS LANE</td>\n",
       "      <td>605</td>\n",
       "      <td>1</td>\n",
       "      <td>99.0</td>\n",
       "      <td>2019-04-10</td>\n",
       "      <td>15</td>\n",
       "      <td>NO</td>\n",
       "      <td>2016-03-11</td>\n",
       "    </tr>\n",
       "  </tbody>\n",
       "</table>\n",
       "</div>"
      ],
      "text/plain": [
       "   Est Number                 Premise Name               Premise Address 1  \\\n",
       "0       67372              #1 CHINA BUFFET  125 E. REYNOLDS ROAD, STE. 120   \n",
       "1       65440        1ST.  BASE CONCESSION                207 LEGENDS LANE   \n",
       "2       98932  21C LEXINGTON MASTER TENANT               167 W MAIN STREET   \n",
       "3       30690       2ND FLOOR CLUB KITCHEN             4201 VERSAILLES RD.   \n",
       "4       65439         3RD. BASE CONCESSION                207 LEGENDS LANE   \n",
       "\n",
       "   Reporting Area  Inspection Type  Score Inspection Date  \\\n",
       "0             605                1   93.0      2019-05-07   \n",
       "1             605                1   99.0      2019-04-10   \n",
       "2             605                1   97.0      2019-01-29   \n",
       "3             605                1  100.0      2019-04-11   \n",
       "4             605                1   99.0      2019-04-10   \n",
       "\n",
       "             Violation List Followup Required Opening Date  \n",
       "0    15  19  20  23  29  31                NO   2002-01-02  \n",
       "1                        15                NO   2016-03-11  \n",
       "2                    19  26                NO   2016-01-25  \n",
       "3                       NaN                NO   1988-07-06  \n",
       "4                        15                NO   2016-03-11  "
      ]
     },
     "execution_count": 5,
     "metadata": {},
     "output_type": "execute_result"
    }
   ],
   "source": [
    "lf.head(5)"
   ]
  },
  {
   "cell_type": "code",
   "execution_count": 8,
   "metadata": {},
   "outputs": [
    {
     "data": {
      "text/plain": [
       "Index(['Est Number', 'Premise Name', 'Premise Address 1', 'Reporting Area',\n",
       "       'Inspection Type', 'Score', 'Inspection Date', 'Violation List',\n",
       "       'Followup Required', 'Opening Date'],\n",
       "      dtype='object')"
      ]
     },
     "execution_count": 8,
     "metadata": {},
     "output_type": "execute_result"
    }
   ],
   "source": [
    "lf.columns"
   ]
  },
  {
   "cell_type": "code",
   "execution_count": 9,
   "metadata": {},
   "outputs": [],
   "source": [
    "lf_clean=lf.drop(columns=['Est Number','Reporting Area',\n",
    "       'Inspection Type', 'Score', 'Inspection Date', 'Violation List',\n",
    "       'Followup Required', 'Opening Date'])"
   ]
  },
  {
   "cell_type": "code",
   "execution_count": 10,
   "metadata": {},
   "outputs": [
    {
     "data": {
      "text/html": [
       "<div>\n",
       "<style scoped>\n",
       "    .dataframe tbody tr th:only-of-type {\n",
       "        vertical-align: middle;\n",
       "    }\n",
       "\n",
       "    .dataframe tbody tr th {\n",
       "        vertical-align: top;\n",
       "    }\n",
       "\n",
       "    .dataframe thead th {\n",
       "        text-align: right;\n",
       "    }\n",
       "</style>\n",
       "<table border=\"1\" class=\"dataframe\">\n",
       "  <thead>\n",
       "    <tr style=\"text-align: right;\">\n",
       "      <th></th>\n",
       "      <th>Premise Name</th>\n",
       "      <th>Premise Address 1</th>\n",
       "    </tr>\n",
       "  </thead>\n",
       "  <tbody>\n",
       "    <tr>\n",
       "      <th>0</th>\n",
       "      <td>#1 CHINA BUFFET</td>\n",
       "      <td>125 E. REYNOLDS ROAD, STE. 120</td>\n",
       "    </tr>\n",
       "    <tr>\n",
       "      <th>1</th>\n",
       "      <td>1ST.  BASE CONCESSION</td>\n",
       "      <td>207 LEGENDS LANE</td>\n",
       "    </tr>\n",
       "    <tr>\n",
       "      <th>2</th>\n",
       "      <td>21C LEXINGTON MASTER TENANT</td>\n",
       "      <td>167 W MAIN STREET</td>\n",
       "    </tr>\n",
       "    <tr>\n",
       "      <th>3</th>\n",
       "      <td>2ND FLOOR CLUB KITCHEN</td>\n",
       "      <td>4201 VERSAILLES RD.</td>\n",
       "    </tr>\n",
       "    <tr>\n",
       "      <th>4</th>\n",
       "      <td>3RD. BASE CONCESSION</td>\n",
       "      <td>207 LEGENDS LANE</td>\n",
       "    </tr>\n",
       "  </tbody>\n",
       "</table>\n",
       "</div>"
      ],
      "text/plain": [
       "                  Premise Name               Premise Address 1\n",
       "0              #1 CHINA BUFFET  125 E. REYNOLDS ROAD, STE. 120\n",
       "1        1ST.  BASE CONCESSION                207 LEGENDS LANE\n",
       "2  21C LEXINGTON MASTER TENANT               167 W MAIN STREET\n",
       "3       2ND FLOOR CLUB KITCHEN             4201 VERSAILLES RD.\n",
       "4         3RD. BASE CONCESSION                207 LEGENDS LANE"
      ]
     },
     "execution_count": 10,
     "metadata": {},
     "output_type": "execute_result"
    }
   ],
   "source": [
    "lf_clean.head(5)"
   ]
  },
  {
   "cell_type": "code",
   "execution_count": 11,
   "metadata": {},
   "outputs": [],
   "source": [
    "lex_food=lf_clean.rename(index=str, columns={\"Premise Name\": \"Name\", \"Premise Address 1\": \"Street\"})"
   ]
  },
  {
   "cell_type": "code",
   "execution_count": 12,
   "metadata": {},
   "outputs": [
    {
     "data": {
      "text/html": [
       "<div>\n",
       "<style scoped>\n",
       "    .dataframe tbody tr th:only-of-type {\n",
       "        vertical-align: middle;\n",
       "    }\n",
       "\n",
       "    .dataframe tbody tr th {\n",
       "        vertical-align: top;\n",
       "    }\n",
       "\n",
       "    .dataframe thead th {\n",
       "        text-align: right;\n",
       "    }\n",
       "</style>\n",
       "<table border=\"1\" class=\"dataframe\">\n",
       "  <thead>\n",
       "    <tr style=\"text-align: right;\">\n",
       "      <th></th>\n",
       "      <th>Name</th>\n",
       "      <th>Street</th>\n",
       "    </tr>\n",
       "  </thead>\n",
       "  <tbody>\n",
       "    <tr>\n",
       "      <th>0</th>\n",
       "      <td>#1 CHINA BUFFET</td>\n",
       "      <td>125 E. REYNOLDS ROAD, STE. 120</td>\n",
       "    </tr>\n",
       "    <tr>\n",
       "      <th>1</th>\n",
       "      <td>1ST.  BASE CONCESSION</td>\n",
       "      <td>207 LEGENDS LANE</td>\n",
       "    </tr>\n",
       "    <tr>\n",
       "      <th>2</th>\n",
       "      <td>21C LEXINGTON MASTER TENANT</td>\n",
       "      <td>167 W MAIN STREET</td>\n",
       "    </tr>\n",
       "    <tr>\n",
       "      <th>3</th>\n",
       "      <td>2ND FLOOR CLUB KITCHEN</td>\n",
       "      <td>4201 VERSAILLES RD.</td>\n",
       "    </tr>\n",
       "    <tr>\n",
       "      <th>4</th>\n",
       "      <td>3RD. BASE CONCESSION</td>\n",
       "      <td>207 LEGENDS LANE</td>\n",
       "    </tr>\n",
       "  </tbody>\n",
       "</table>\n",
       "</div>"
      ],
      "text/plain": [
       "                          Name                          Street\n",
       "0              #1 CHINA BUFFET  125 E. REYNOLDS ROAD, STE. 120\n",
       "1        1ST.  BASE CONCESSION                207 LEGENDS LANE\n",
       "2  21C LEXINGTON MASTER TENANT               167 W MAIN STREET\n",
       "3       2ND FLOOR CLUB KITCHEN             4201 VERSAILLES RD.\n",
       "4         3RD. BASE CONCESSION                207 LEGENDS LANE"
      ]
     },
     "execution_count": 12,
     "metadata": {},
     "output_type": "execute_result"
    }
   ],
   "source": [
    "lex_food.head(5)"
   ]
  },
  {
   "cell_type": "code",
   "execution_count": 17,
   "metadata": {},
   "outputs": [
    {
     "data": {
      "text/html": [
       "<div>\n",
       "<style scoped>\n",
       "    .dataframe tbody tr th:only-of-type {\n",
       "        vertical-align: middle;\n",
       "    }\n",
       "\n",
       "    .dataframe tbody tr th {\n",
       "        vertical-align: top;\n",
       "    }\n",
       "\n",
       "    .dataframe thead th {\n",
       "        text-align: right;\n",
       "    }\n",
       "</style>\n",
       "<table border=\"1\" class=\"dataframe\">\n",
       "  <thead>\n",
       "    <tr style=\"text-align: right;\">\n",
       "      <th></th>\n",
       "      <th>Name</th>\n",
       "      <th>Street</th>\n",
       "    </tr>\n",
       "  </thead>\n",
       "  <tbody>\n",
       "    <tr>\n",
       "      <th>count</th>\n",
       "      <td>2317</td>\n",
       "      <td>2317</td>\n",
       "    </tr>\n",
       "    <tr>\n",
       "      <th>unique</th>\n",
       "      <td>1296</td>\n",
       "      <td>1297</td>\n",
       "    </tr>\n",
       "    <tr>\n",
       "      <th>top</th>\n",
       "      <td>SUBWAY</td>\n",
       "      <td>4201 VERSAILLES RD</td>\n",
       "    </tr>\n",
       "    <tr>\n",
       "      <th>freq</th>\n",
       "      <td>24</td>\n",
       "      <td>19</td>\n",
       "    </tr>\n",
       "  </tbody>\n",
       "</table>\n",
       "</div>"
      ],
      "text/plain": [
       "          Name              Street\n",
       "count     2317                2317\n",
       "unique    1296                1297\n",
       "top     SUBWAY  4201 VERSAILLES RD\n",
       "freq        24                  19"
      ]
     },
     "execution_count": 17,
     "metadata": {},
     "output_type": "execute_result"
    }
   ],
   "source": [
    "lex_food.describe()"
   ]
  },
  {
   "cell_type": "code",
   "execution_count": 18,
   "metadata": {},
   "outputs": [],
   "source": [
    "lex_food['City']='Lexington'"
   ]
  },
  {
   "cell_type": "code",
   "execution_count": 19,
   "metadata": {},
   "outputs": [],
   "source": [
    "lex_food['State']= 'Kentucky'"
   ]
  },
  {
   "cell_type": "code",
   "execution_count": 20,
   "metadata": {},
   "outputs": [
    {
     "data": {
      "text/html": [
       "<div>\n",
       "<style scoped>\n",
       "    .dataframe tbody tr th:only-of-type {\n",
       "        vertical-align: middle;\n",
       "    }\n",
       "\n",
       "    .dataframe tbody tr th {\n",
       "        vertical-align: top;\n",
       "    }\n",
       "\n",
       "    .dataframe thead th {\n",
       "        text-align: right;\n",
       "    }\n",
       "</style>\n",
       "<table border=\"1\" class=\"dataframe\">\n",
       "  <thead>\n",
       "    <tr style=\"text-align: right;\">\n",
       "      <th></th>\n",
       "      <th>Name</th>\n",
       "      <th>Street</th>\n",
       "      <th>City</th>\n",
       "      <th>State</th>\n",
       "    </tr>\n",
       "  </thead>\n",
       "  <tbody>\n",
       "    <tr>\n",
       "      <th>0</th>\n",
       "      <td>#1 CHINA BUFFET</td>\n",
       "      <td>125 E. REYNOLDS ROAD, STE. 120</td>\n",
       "      <td>Lexington</td>\n",
       "      <td>Kentucky</td>\n",
       "    </tr>\n",
       "    <tr>\n",
       "      <th>1</th>\n",
       "      <td>1ST.  BASE CONCESSION</td>\n",
       "      <td>207 LEGENDS LANE</td>\n",
       "      <td>Lexington</td>\n",
       "      <td>Kentucky</td>\n",
       "    </tr>\n",
       "    <tr>\n",
       "      <th>2</th>\n",
       "      <td>21C LEXINGTON MASTER TENANT</td>\n",
       "      <td>167 W MAIN STREET</td>\n",
       "      <td>Lexington</td>\n",
       "      <td>Kentucky</td>\n",
       "    </tr>\n",
       "    <tr>\n",
       "      <th>3</th>\n",
       "      <td>2ND FLOOR CLUB KITCHEN</td>\n",
       "      <td>4201 VERSAILLES RD.</td>\n",
       "      <td>Lexington</td>\n",
       "      <td>Kentucky</td>\n",
       "    </tr>\n",
       "    <tr>\n",
       "      <th>4</th>\n",
       "      <td>3RD. BASE CONCESSION</td>\n",
       "      <td>207 LEGENDS LANE</td>\n",
       "      <td>Lexington</td>\n",
       "      <td>Kentucky</td>\n",
       "    </tr>\n",
       "  </tbody>\n",
       "</table>\n",
       "</div>"
      ],
      "text/plain": [
       "                          Name                          Street       City  \\\n",
       "0              #1 CHINA BUFFET  125 E. REYNOLDS ROAD, STE. 120  Lexington   \n",
       "1        1ST.  BASE CONCESSION                207 LEGENDS LANE  Lexington   \n",
       "2  21C LEXINGTON MASTER TENANT               167 W MAIN STREET  Lexington   \n",
       "3       2ND FLOOR CLUB KITCHEN             4201 VERSAILLES RD.  Lexington   \n",
       "4         3RD. BASE CONCESSION                207 LEGENDS LANE  Lexington   \n",
       "\n",
       "      State  \n",
       "0  Kentucky  \n",
       "1  Kentucky  \n",
       "2  Kentucky  \n",
       "3  Kentucky  \n",
       "4  Kentucky  "
      ]
     },
     "execution_count": 20,
     "metadata": {},
     "output_type": "execute_result"
    }
   ],
   "source": [
    "lex_food.head(5)"
   ]
  },
  {
   "cell_type": "code",
   "execution_count": 23,
   "metadata": {},
   "outputs": [],
   "source": [
    "lex_food_unique= lex_food.drop_duplicates('Name', keep='first')"
   ]
  },
  {
   "cell_type": "code",
   "execution_count": 24,
   "metadata": {},
   "outputs": [
    {
     "data": {
      "text/html": [
       "<div>\n",
       "<style scoped>\n",
       "    .dataframe tbody tr th:only-of-type {\n",
       "        vertical-align: middle;\n",
       "    }\n",
       "\n",
       "    .dataframe tbody tr th {\n",
       "        vertical-align: top;\n",
       "    }\n",
       "\n",
       "    .dataframe thead th {\n",
       "        text-align: right;\n",
       "    }\n",
       "</style>\n",
       "<table border=\"1\" class=\"dataframe\">\n",
       "  <thead>\n",
       "    <tr style=\"text-align: right;\">\n",
       "      <th></th>\n",
       "      <th>Name</th>\n",
       "      <th>Street</th>\n",
       "      <th>City</th>\n",
       "      <th>State</th>\n",
       "    </tr>\n",
       "  </thead>\n",
       "  <tbody>\n",
       "    <tr>\n",
       "      <th>count</th>\n",
       "      <td>1296</td>\n",
       "      <td>1296</td>\n",
       "      <td>1296</td>\n",
       "      <td>1296</td>\n",
       "    </tr>\n",
       "    <tr>\n",
       "      <th>unique</th>\n",
       "      <td>1296</td>\n",
       "      <td>1209</td>\n",
       "      <td>1</td>\n",
       "      <td>1</td>\n",
       "    </tr>\n",
       "    <tr>\n",
       "      <th>top</th>\n",
       "      <td>KENTUCKY CATTLEMEN</td>\n",
       "      <td>4201 VERSAILLES RD</td>\n",
       "      <td>Lexington</td>\n",
       "      <td>Kentucky</td>\n",
       "    </tr>\n",
       "    <tr>\n",
       "      <th>freq</th>\n",
       "      <td>1</td>\n",
       "      <td>16</td>\n",
       "      <td>1296</td>\n",
       "      <td>1296</td>\n",
       "    </tr>\n",
       "  </tbody>\n",
       "</table>\n",
       "</div>"
      ],
      "text/plain": [
       "                      Name              Street       City     State\n",
       "count                 1296                1296       1296      1296\n",
       "unique                1296                1209          1         1\n",
       "top     KENTUCKY CATTLEMEN  4201 VERSAILLES RD  Lexington  Kentucky\n",
       "freq                     1                  16       1296      1296"
      ]
     },
     "execution_count": 24,
     "metadata": {},
     "output_type": "execute_result"
    }
   ],
   "source": [
    "lex_food_unique.describe()"
   ]
  },
  {
   "cell_type": "code",
   "execution_count": 31,
   "metadata": {},
   "outputs": [
    {
     "data": {
      "text/html": [
       "<div>\n",
       "<style scoped>\n",
       "    .dataframe tbody tr th:only-of-type {\n",
       "        vertical-align: middle;\n",
       "    }\n",
       "\n",
       "    .dataframe tbody tr th {\n",
       "        vertical-align: top;\n",
       "    }\n",
       "\n",
       "    .dataframe thead th {\n",
       "        text-align: right;\n",
       "    }\n",
       "</style>\n",
       "<table border=\"1\" class=\"dataframe\">\n",
       "  <thead>\n",
       "    <tr style=\"text-align: right;\">\n",
       "      <th></th>\n",
       "      <th>Name</th>\n",
       "      <th>Street</th>\n",
       "      <th>City</th>\n",
       "      <th>State</th>\n",
       "    </tr>\n",
       "  </thead>\n",
       "  <tbody>\n",
       "    <tr>\n",
       "      <th>0</th>\n",
       "      <td>#1 CHINA BUFFET</td>\n",
       "      <td>125 E. REYNOLDS ROAD, STE. 120</td>\n",
       "      <td>Lexington</td>\n",
       "      <td>Kentucky</td>\n",
       "    </tr>\n",
       "    <tr>\n",
       "      <th>1</th>\n",
       "      <td>1ST.  BASE CONCESSION</td>\n",
       "      <td>207 LEGENDS LANE</td>\n",
       "      <td>Lexington</td>\n",
       "      <td>Kentucky</td>\n",
       "    </tr>\n",
       "    <tr>\n",
       "      <th>2</th>\n",
       "      <td>21C LEXINGTON MASTER TENANT</td>\n",
       "      <td>167 W MAIN STREET</td>\n",
       "      <td>Lexington</td>\n",
       "      <td>Kentucky</td>\n",
       "    </tr>\n",
       "    <tr>\n",
       "      <th>3</th>\n",
       "      <td>2ND FLOOR CLUB KITCHEN</td>\n",
       "      <td>4201 VERSAILLES RD.</td>\n",
       "      <td>Lexington</td>\n",
       "      <td>Kentucky</td>\n",
       "    </tr>\n",
       "    <tr>\n",
       "      <th>4</th>\n",
       "      <td>3RD. BASE CONCESSION</td>\n",
       "      <td>207 LEGENDS LANE</td>\n",
       "      <td>Lexington</td>\n",
       "      <td>Kentucky</td>\n",
       "    </tr>\n",
       "  </tbody>\n",
       "</table>\n",
       "</div>"
      ],
      "text/plain": [
       "                          Name                          Street       City  \\\n",
       "0              #1 CHINA BUFFET  125 E. REYNOLDS ROAD, STE. 120  Lexington   \n",
       "1        1ST.  BASE CONCESSION                207 LEGENDS LANE  Lexington   \n",
       "2  21C LEXINGTON MASTER TENANT               167 W MAIN STREET  Lexington   \n",
       "3       2ND FLOOR CLUB KITCHEN             4201 VERSAILLES RD.  Lexington   \n",
       "4         3RD. BASE CONCESSION                207 LEGENDS LANE  Lexington   \n",
       "\n",
       "      State  \n",
       "0  Kentucky  \n",
       "1  Kentucky  \n",
       "2  Kentucky  \n",
       "3  Kentucky  \n",
       "4  Kentucky  "
      ]
     },
     "execution_count": 31,
     "metadata": {},
     "output_type": "execute_result"
    }
   ],
   "source": [
    "lex_food_unique.head(5)"
   ]
  },
  {
   "cell_type": "code",
   "execution_count": 33,
   "metadata": {},
   "outputs": [],
   "source": [
    "lex_food_unique.to_csv('./data/lf.csv')"
   ]
  },
  {
   "cell_type": "code",
   "execution_count": null,
   "metadata": {},
   "outputs": [],
   "source": []
  }
 ],
 "metadata": {
  "kernelspec": {
   "display_name": "Python 3",
   "language": "python",
   "name": "python3"
  },
  "language_info": {
   "codemirror_mode": {
    "name": "ipython",
    "version": 3
   },
   "file_extension": ".py",
   "mimetype": "text/x-python",
   "name": "python",
   "nbconvert_exporter": "python",
   "pygments_lexer": "ipython3",
   "version": "3.7.1"
  }
 },
 "nbformat": 4,
 "nbformat_minor": 2
}
